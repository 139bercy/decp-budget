{
 "cells": [
  {
   "cell_type": "markdown",
   "id": "992b4464-5cf7-4a7b-9e16-3a7a7658be35",
   "metadata": {},
   "source": [
    "# Filtre sur le périmètre d'ÉTat\n",
    "\n",
    "Ce notebook a pour fonction de proposer une liste des couples (idAcheteur, nomAcheteur), dans le but de produir eune table de sélection, en indiquant les couples relevant du périmètre de l'État. Cela s'insière dans le projet de produire une simulton de l’effet qu’aurait un « choc d’inflation » sur les marchés publics conclus par l'État."
   ]
  },
  {
   "cell_type": "code",
   "execution_count": 1,
   "id": "53b8a39f-bef4-4b6e-9ca7-6be0a378067d",
   "metadata": {},
   "outputs": [],
   "source": [
    "import pandas as pd"
   ]
  },
  {
   "cell_type": "code",
   "execution_count": 2,
   "id": "720d5d51-834e-4cc4-bf30-41197b7dd398",
   "metadata": {},
   "outputs": [],
   "source": [
    "# Données sources\n",
    "decp_safe = pd.read_csv(\"data/decp_augmente.csv\", sep = \";\", dtype={'idAcheteur': str}, encoding=\"UTF-8\")\n",
    "#passage_safe = pd.read_excel(\"data/Copie de RestitCalculReferentiel-20211013_13h13m25s-SUPERADM.xls\")\n",
    "#p166_safe = pd.read_excel('data/sortieP166.xlsx')\n",
    "etat_safe = pd.read_csv('data/ZBUD51 budget Etat 2020.csv', sep = \";\", thousands=\" \", decimal=\",\", dtype={'EUR' : float})"
   ]
  },
  {
   "cell_type": "code",
   "execution_count": 3,
   "id": "86850162-7621-45dc-a508-f15aa0104abe",
   "metadata": {},
   "outputs": [],
   "source": [
    "# Copies de travail\n",
    "decp = decp_safe.copy()\n",
    "#passage = passage_safe.copy()\n",
    "#p166 = p166_safe.copy()\n",
    "etat = etat_safe.copy()"
   ]
  },
  {
   "cell_type": "code",
   "execution_count": 4,
   "id": "a7b927a4-0265-42d9-9777-e6747ebfd215",
   "metadata": {},
   "outputs": [
    {
     "data": {
      "text/html": [
       "<div>\n",
       "<style scoped>\n",
       "    .dataframe tbody tr th:only-of-type {\n",
       "        vertical-align: middle;\n",
       "    }\n",
       "\n",
       "    .dataframe tbody tr th {\n",
       "        vertical-align: top;\n",
       "    }\n",
       "\n",
       "    .dataframe thead th {\n",
       "        text-align: right;\n",
       "    }\n",
       "</style>\n",
       "<table border=\"1\" class=\"dataframe\">\n",
       "  <thead>\n",
       "    <tr style=\"text-align: right;\">\n",
       "      <th></th>\n",
       "      <th>Centre financier</th>\n",
       "      <th>Compte budgétaire</th>\n",
       "      <th>Référentiel de programmation</th>\n",
       "      <th>Compte général</th>\n",
       "      <th>Groupe de marchandises</th>\n",
       "      <th>Type d'opération</th>\n",
       "      <th>Type de flux</th>\n",
       "      <th>EUR</th>\n",
       "    </tr>\n",
       "  </thead>\n",
       "  <tbody>\n",
       "    <tr>\n",
       "      <th>0</th>\n",
       "      <td>0101-CCAS-C001</td>\n",
       "      <td>61</td>\n",
       "      <td>010101010106</td>\n",
       "      <td>6512300000</td>\n",
       "      <td>#</td>\n",
       "      <td>#</td>\n",
       "      <td>Flux 4 Autres</td>\n",
       "      <td>412013.71</td>\n",
       "    </tr>\n",
       "    <tr>\n",
       "      <th>1</th>\n",
       "      <td>0101-CCAS-C001</td>\n",
       "      <td>61</td>\n",
       "      <td>010101010113</td>\n",
       "      <td>6512300000</td>\n",
       "      <td>#</td>\n",
       "      <td>#</td>\n",
       "      <td>Flux 4 Autres</td>\n",
       "      <td>13731.25</td>\n",
       "    </tr>\n",
       "    <tr>\n",
       "      <th>2</th>\n",
       "      <td>0101-CCAS-C001</td>\n",
       "      <td>61</td>\n",
       "      <td>010101010114</td>\n",
       "      <td>6512300000</td>\n",
       "      <td>#</td>\n",
       "      <td>#</td>\n",
       "      <td>Flux 4 Autres</td>\n",
       "      <td>4688.00</td>\n",
       "    </tr>\n",
       "    <tr>\n",
       "      <th>3</th>\n",
       "      <td>0101-CSAD-C001</td>\n",
       "      <td>31</td>\n",
       "      <td>010101010114</td>\n",
       "      <td>6212810000</td>\n",
       "      <td>24.01.08</td>\n",
       "      <td>ZCTR</td>\n",
       "      <td>Flux 1</td>\n",
       "      <td>11397.12</td>\n",
       "    </tr>\n",
       "    <tr>\n",
       "      <th>4</th>\n",
       "      <td>0101-CSAD-C001</td>\n",
       "      <td>31</td>\n",
       "      <td>010101060102</td>\n",
       "      <td>6113110000</td>\n",
       "      <td>#</td>\n",
       "      <td>#</td>\n",
       "      <td>Flux 4 Autres</td>\n",
       "      <td>122843.08</td>\n",
       "    </tr>\n",
       "  </tbody>\n",
       "</table>\n",
       "</div>"
      ],
      "text/plain": [
       "  Centre financier  Compte budgétaire Référentiel de programmation  \\\n",
       "0   0101-CCAS-C001                 61                 010101010106   \n",
       "1   0101-CCAS-C001                 61                 010101010113   \n",
       "2   0101-CCAS-C001                 61                 010101010114   \n",
       "3   0101-CSAD-C001                 31                 010101010114   \n",
       "4   0101-CSAD-C001                 31                 010101060102   \n",
       "\n",
       "   Compte général Groupe de marchandises Type d'opération   Type de flux  \\\n",
       "0      6512300000                      #                #  Flux 4 Autres   \n",
       "1      6512300000                      #                #  Flux 4 Autres   \n",
       "2      6512300000                      #                #  Flux 4 Autres   \n",
       "3      6212810000               24.01.08             ZCTR         Flux 1   \n",
       "4      6113110000                      #                #  Flux 4 Autres   \n",
       "\n",
       "         EUR  \n",
       "0  412013.71  \n",
       "1   13731.25  \n",
       "2    4688.00  \n",
       "3   11397.12  \n",
       "4  122843.08  "
      ]
     },
     "execution_count": 4,
     "metadata": {},
     "output_type": "execute_result"
    }
   ],
   "source": [
    "# Cette table présente toutes les dépenses du budget 2020 de l’Etat \n",
    "# Elle permet de définir la base des dépenses à prendre en compte pour l’inflation\n",
    "etat.head()"
   ]
  },
  {
   "cell_type": "code",
   "execution_count": 5,
   "id": "81c8ce65-4232-40aa-83bf-795fd64c1dcb",
   "metadata": {},
   "outputs": [
    {
     "data": {
      "text/plain": [
       "(277055, 68)"
      ]
     },
     "execution_count": 5,
     "metadata": {},
     "output_type": "execute_result"
    }
   ],
   "source": [
    "# Cette table contient les données essentielles de leurs marchés publics sur leur profil d'acheteur, agrégées et augmentées par le BercyHub\n",
    "decp.shape"
   ]
  },
  {
   "cell_type": "code",
   "execution_count": 6,
   "id": "a0137950-1aaf-4964-8d51-f4b86740291a",
   "metadata": {},
   "outputs": [
    {
     "data": {
      "text/plain": [
       "(148029, 68)"
      ]
     },
     "execution_count": 6,
     "metadata": {},
     "output_type": "execute_result"
    }
   ],
   "source": [
    "# On ne conserve que les données de l'État, provenant de l'Agence pour l'information financière de l'ÉTat (AIFE)\n",
    "decp_aife = decp[decp['source'] == 'data.gouv.fr_aife']\n",
    "decp_aife.shape"
   ]
  },
  {
   "cell_type": "code",
   "execution_count": 7,
   "id": "bf9e86d6-d20d-4ae3-9d0e-8ee07728dd89",
   "metadata": {},
   "outputs": [],
   "source": [
    "# On ne conserve que les informations (vraiment) essentielles à ce stade, en excluant notamment la géolocalisation, etc.\n",
    "keep_cols_work = ['type', 'natureObjetMarche', 'objetMarche',\n",
    "       'codeCPV_Original', 'codeCPV', 'codeCPV_division', 'referenceCPV',\n",
    "       'dateNotification', 'anneeNotification', 'moisNotification',\n",
    "       'datePublicationDonnees', 'dureeMois', 'dureeMoisEstimee',\n",
    "       'dureeMoisCalculee', 'montant', 'nombreTitulaireSurMarchePresume',\n",
    "       'montantCalcule', 'formePrix', 'nature',\n",
    "       'accord-cadrePresume', 'procedure', 'idAcheteur', 'sirenAcheteurValide',\n",
    "       'nomAcheteur']"
   ]
  },
  {
   "cell_type": "code",
   "execution_count": 8,
   "id": "977e060f-9fa3-425e-85a0-4747454c2298",
   "metadata": {},
   "outputs": [],
   "source": [
    "decp_work = decp_aife[keep_cols_work]"
   ]
  },
  {
   "cell_type": "code",
   "execution_count": 9,
   "id": "7c86792e-0a0b-4e2a-a8ac-08ac7adbabb1",
   "metadata": {},
   "outputs": [],
   "source": [
    "# On ne conserve que les colonnes nécessaires à l'identification de l'acheteur\n",
    "keep_cols_acheteur = ['idAcheteur',\n",
    "       'nomAcheteur', 'libelleRegionAcheteur',\n",
    "       'libelleDepartementAcheteur',\n",
    "       'codePostalAcheteur', 'libelleCommuneAcheteur']"
   ]
  },
  {
   "cell_type": "code",
   "execution_count": 10,
   "id": "a239e8df-f728-469b-849d-2927c51abd28",
   "metadata": {},
   "outputs": [],
   "source": [
    "decp_acheteur = decp_aife[keep_cols_acheteur]"
   ]
  },
  {
   "cell_type": "code",
   "execution_count": 11,
   "id": "e1fbbf0e-e5ee-4d09-bef8-7ff9ba58e06e",
   "metadata": {},
   "outputs": [],
   "source": [
    "res = decp_acheteur.groupby(['idAcheteur', 'nomAcheteur']).all().sort_values('idAcheteur')"
   ]
  },
  {
   "cell_type": "code",
   "execution_count": 12,
   "id": "45b768fa-665c-42d9-994e-eb79ac7a39e6",
   "metadata": {},
   "outputs": [],
   "source": [
    "res.to_csv(\"select_acheteurs_grouped.csv\", sep = \";\", encoding=\"UTF-8\")"
   ]
  },
  {
   "cell_type": "code",
   "execution_count": null,
   "id": "aab8d473-b9b1-4785-8586-539dfa542943",
   "metadata": {},
   "outputs": [],
   "source": []
  }
 ],
 "metadata": {
  "kernelspec": {
   "display_name": "Python 3 (ipykernel)",
   "language": "python",
   "name": "python3"
  },
  "language_info": {
   "codemirror_mode": {
    "name": "ipython",
    "version": 3
   },
   "file_extension": ".py",
   "mimetype": "text/x-python",
   "name": "python",
   "nbconvert_exporter": "python",
   "pygments_lexer": "ipython3",
   "version": "3.9.6"
  }
 },
 "nbformat": 4,
 "nbformat_minor": 5
}
