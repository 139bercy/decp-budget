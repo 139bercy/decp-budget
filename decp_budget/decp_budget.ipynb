{
 "cells": [
  {
   "cell_type": "markdown",
   "id": "992b4464-5cf7-4a7b-9e16-3a7a7658be35",
   "metadata": {},
   "source": [
    "# Bugdet et commande publique\n",
    "\n",
    "Ce notebook a pour fonction de proposer une simulton de l’effet qu’aurait un « choc d’inflation » sur les marchés publics conclus par l'État.\n",
    "\n",
    "Faisant suite à une demande de la directrice du Budget, l'hypothèse retenue pour ce scénario fictif est une hausse de 1 point de l'inflation (IPCH hors tabac) sur 12 mois entre le 1er juillet 2021 et le 30 juin 2022. \n",
    "\n",
    "A partir des [données essentielles de la commande publique](https://data.economie.gouv.fr/explore/dataset/decp_augmente/table/) (DECP), publiées par la DAJ du SG Bercy et l'AIFE et augemntées par le BercyHub, il s'agit de proposer une approche par les données de cette simulation. A court terme, cela nécessite de : \n",
    "\n",
    "1. Filtrer les données entre État/collectivités territoriales (par exemple sur l'intitulé de l'Acheteur, avec une liste des libellés que l'on garde et une liste des libellés que l'on exclut)\n",
    "2. Replacer chaque montant sur un référentiel temporaire commun (mois, semestre, ou année ?, et avec les deux types de durées)\n",
    "3. Calculer l'effet différentiel du choc d'inflation sur les montants totaux"
   ]
  },
  {
   "cell_type": "markdown",
   "id": "bc7934e9-bdcd-4075-a152-7fc634607fb5",
   "metadata": {},
   "source": [
    "## Sommaire\n",
    "\n",
    "1. Sur les données de la commande publique\n",
    "    1. Préparation des données\n",
    "    2. Étude sur les formes de prix des marchés\n",
    "        1. Formes de prix des marchés de l'État\n",
    "        2. Marchés à prix fermes se terminant après juin 2022\n",
    "    3. Estimation des mensualités de la commande publique\n",
    "        1. Ensemble des marchés de l'État\n",
    "        2. Marchés à prix fermes de l'État\n",
    "2. Sur le budget de l'État\n",
    "    1. Préparation des données\n",
    "    2. Filtres\n",
    "        1. Filtre sur le périmètre ministériel\n",
    "        2. Filtre sur les comptes budgétaires\n",
    "        3. Filtre sur les comptes généraux\n",
    "3. Résutats\n",
    "    1. Sommes totales\n",
    "    2. Part des marchés à taux fermes expirant après le 30 juin 2022 dans le total\n",
    "    3. Exports de travail"
   ]
  },
  {
   "cell_type": "code",
   "execution_count": null,
   "id": "53b8a39f-bef4-4b6e-9ca7-6be0a378067d",
   "metadata": {},
   "outputs": [],
   "source": [
    "# Librairies employées\n",
    "import pandas as pd\n",
    "import datetime\n",
    "from dateutil.relativedelta import relativedelta"
   ]
  },
  {
   "cell_type": "code",
   "execution_count": null,
   "id": "9c265fa8-8842-44e6-8e92-5f05d4ce6b5f",
   "metadata": {},
   "outputs": [],
   "source": [
    "# Suppression du message d'erreur SettingWithCopyWarning\n",
    "# Cf. https://pandas.pydata.org/pandas-docs/stable/user_guide/indexing.html#returning-a-view-versus-a-copy\n",
    "pd.set_option('mode.chained_assignment', None)"
   ]
  },
  {
   "cell_type": "code",
   "execution_count": null,
   "id": "720d5d51-834e-4cc4-bf30-41197b7dd398",
   "metadata": {},
   "outputs": [],
   "source": [
    "# Données sources sur l'ensemble du notebok\n",
    "decp_safe = pd.read_csv(\"data/decp_augmente.csv\", sep = \";\", dtype={'idAcheteur': str, 'montant': float}, encoding=\"UTF-8\")\n",
    "budget_safe = pd.read_csv('data/ZBUD51 budget Etat 2020.csv', sep = \";\", thousands=\" \", decimal=\",\", dtype={'EUR' : float})\n",
    "filtre_decp_etat_safe = pd.read_csv('data/table corr V2.csv', sep = \";\", dtype = {'idAcheteur' : str})\n",
    "filtre_budget_etat_safe = pd.read_excel('data/filtresPCE.xlsx')\n",
    "referentiel_ministere_safe = pd.read_excel(\"data/Copie de RestitCalculReferentiel-20211013_13h13m25s-SUPERADM.xls\")"
   ]
  },
  {
   "cell_type": "code",
   "execution_count": null,
   "id": "0c428b12-2f22-42c0-8e4d-dbe81ec5c91d",
   "metadata": {},
   "outputs": [],
   "source": [
    "# Données non utilisées\n",
    "# p166_safe = pd.read_excel('data/sortieP166.xlsx')"
   ]
  },
  {
   "cell_type": "code",
   "execution_count": null,
   "id": "86850162-7621-45dc-a508-f15aa0104abe",
   "metadata": {},
   "outputs": [],
   "source": [
    "# Copies de travail des données\n",
    "decp = decp_safe.copy()\n",
    "budget = budget_safe.copy()\n",
    "filtre_decp_etat = filtre_decp_etat_safe.copy()\n",
    "filtre_budget_etat = filtre_budget_etat_safe.copy()\n",
    "referentiel_ministere = referentiel_ministere_safe.copy()"
   ]
  },
  {
   "cell_type": "markdown",
   "id": "5cefa208-56e9-40dd-bec9-8185354ff251",
   "metadata": {},
   "source": [
    "## Sur les données de la commande publique\n",
    "\n",
    "Sur les DECP d'abord, il serait intéressant d'avoir : \n",
    "\n",
    "- en nombre et en montant, les formes de prix des marchés (révisable, ferme ou fermes et actualisables) ;\n",
    "- en nombre et en montant, pour ceux qui ont des prix fermes, ceux qui se terminent après juin 2022 (la temporalité des marchés, notamment leur fin, est à explorer) ;"
   ]
  },
  {
   "cell_type": "markdown",
   "id": "34f1281a-53f4-499c-af81-44adbb5a0f6c",
   "metadata": {},
   "source": [
    "### Prépartion des données"
   ]
  },
  {
   "cell_type": "code",
   "execution_count": null,
   "id": "81c8ce65-4232-40aa-83bf-795fd64c1dcb",
   "metadata": {},
   "outputs": [],
   "source": [
    "# Cette table contient les données essentielles de leurs marchés publics sur leur profil d'acheteur, agrégées et augmentées par le BercyHub\n",
    "decp.shape"
   ]
  },
  {
   "cell_type": "code",
   "execution_count": null,
   "id": "bf9e86d6-d20d-4ae3-9d0e-8ee07728dd89",
   "metadata": {},
   "outputs": [],
   "source": [
    "# On ne conserve que les informations (vraiment) essentielles à ce stade, en excluant notamment la géolocalisation, etc.\n",
    "keep_cols_decp_work = ['source', 'type', 'natureObjetMarche', 'objetMarche',\n",
    "       'codeCPV_Original', 'codeCPV', 'codeCPV_division', 'referenceCPV',\n",
    "       'dateNotification', 'anneeNotification', 'moisNotification',\n",
    "       'datePublicationDonnees', 'dureeMois', 'dureeMoisEstimee',\n",
    "       'dureeMoisCalculee', 'montant', 'nombreTitulaireSurMarchePresume',\n",
    "       'montantCalcule', 'formePrix', 'nature',\n",
    "       'accord-cadrePresume', 'procedure', 'idAcheteur', 'sirenAcheteurValide',\n",
    "       'nomAcheteur']\n",
    "decp_work = decp[keep_cols_decp_work]"
   ]
  },
  {
   "cell_type": "code",
   "execution_count": null,
   "id": "a0137950-1aaf-4964-8d51-f4b86740291a",
   "metadata": {},
   "outputs": [],
   "source": [
    "# On ne conserve que les données provenant de l'Agence pour l'information financière de l'État (AIFE)\n",
    "decp_aife = decp_work[decp_work['source'] == 'data.gouv.fr_aife']\n",
    "decp_aife.shape"
   ]
  },
  {
   "cell_type": "code",
   "execution_count": null,
   "id": "843b979f-6d1e-4702-bd93-932c7853418b",
   "metadata": {},
   "outputs": [],
   "source": [
    "# On supprime les colonnes booléennes sur la présence d'un libellé de code postal, de commune, département et réguin\n",
    "keep_cols_filtre_decp_etat = ['idAcheteur', 'nomAcheteur', 'OKKO']\n",
    "filtre_decp_etat_work = filtre_decp_etat[keep_cols_filtre_decp_etat]"
   ]
  },
  {
   "cell_type": "code",
   "execution_count": null,
   "id": "aab8d473-b9b1-4785-8586-539dfa542943",
   "metadata": {
    "tags": []
   },
   "outputs": [],
   "source": [
    "# Au sein de ces données de l'AIFE, on filtre sur le seul périmètre État, d'après la table établie par 2PERF (DB)\n",
    "decp_aife_etat = decp_aife.merge(filtre_decp_etat_work, on = ['idAcheteur', 'nomAcheteur'], how = 'inner')\n",
    "decp_aife_etat = decp_aife_etat[decp_aife_etat['OKKO'] == 'OK']"
   ]
  },
  {
   "cell_type": "code",
   "execution_count": null,
   "id": "bc7af5e7-07b7-433e-a8db-7712dea6e51a",
   "metadata": {},
   "outputs": [],
   "source": [
    "# Les commandes publiques de l'État sont essentiellement des marchés\n",
    "# On identifie quelques contrats de concessions, généralement sans date de notification renseignée\n",
    "decp_aife_etat.groupby(\"type\").sum()"
   ]
  },
  {
   "cell_type": "code",
   "execution_count": null,
   "id": "c60043f9-2a41-4e4a-83e4-c5973136b3c8",
   "metadata": {},
   "outputs": [],
   "source": [
    "# Conversion des dates au format Pandas\n",
    "decp_aife_etat.loc[:, 'dateNotification'] = pd.to_datetime(decp_aife_etat['dateNotification'], infer_datetime_format=True)"
   ]
  },
  {
   "cell_type": "code",
   "execution_count": null,
   "id": "6d425b6b-6dee-46c3-857e-20b2f6d24d81",
   "metadata": {},
   "outputs": [],
   "source": [
    "# On filtre pour les marchés dont la date de notification est postérieure à 2018\n",
    "decp_aife_etat_post2018 = decp_aife_etat[decp_aife_etat['dateNotification'] > datetime.datetime(2018, 1, 1)]"
   ]
  },
  {
   "cell_type": "code",
   "execution_count": null,
   "id": "825a44b1-ab75-42c6-9a12-d5beba62a5c0",
   "metadata": {},
   "outputs": [],
   "source": [
    "# Au sein des données de l'AIFE sur le périmètre État, on garde uniquement les marchés\n",
    "decp_aife_etat_post2018_marche = decp_aife_etat_post2018[decp_aife_etat_post2018[\"type\"] == \"Marché\"]"
   ]
  },
  {
   "cell_type": "code",
   "execution_count": null,
   "id": "307ce633-4a6c-4764-8cba-07eaeb0071f4",
   "metadata": {},
   "outputs": [],
   "source": [
    "# Création de la date de fin de contrat calculée, en additionnant la date de notification et le nombre de mois calculé\n",
    "# Cette information est utile pour l'étude des marchés à prix fermes arrivant  échéance après juin 2022\n",
    "# elle sert également pour le calcul des mensualités sur le budget\n",
    "get_dateFinCalculee = lambda x: x['dateNotification'] + relativedelta(months = int(x['dureeMoisCalculee']))\n",
    "decp_aife_etat_post2018_marche['dateFinCalculee'] = decp_aife_etat_post2018_marche.apply(get_dateFinCalculee, axis=1)"
   ]
  },
  {
   "cell_type": "markdown",
   "id": "13fd4f92-c102-48d5-9193-47c3e71db1ca",
   "metadata": {},
   "source": [
    "**Point sur la source des données** :\n",
    "\n",
    "> La date de notification est la date d'attribution du marché ; date de publication est relatif à l'intégration de ces données dans la plateforme. De ce fait, la date de notification n'est pas nécessairement la date de début de contrat\n",
    "\n",
    "A court terme, on propose une sortie avec les sommes des montants étant terminés en juin 2022, ce qui représente une hypothèse haute, où tous les contrats commençeraient le jour même de leur notification. Une estimation plus précise serait utile dans un second temps, avec, par exemple, le nombre qui y sont encore si l'on décale d'un mois encore, avec une sorte de taux marginal."
   ]
  },
  {
   "cell_type": "markdown",
   "id": "e1209322-1e21-4b5a-8258-28d14d0a2602",
   "metadata": {},
   "source": [
    "### Étude sur les formes de prix des marchés"
   ]
  },
  {
   "cell_type": "markdown",
   "id": "9eee495d-21a7-40fe-88c1-4e88da9f6c3a",
   "metadata": {},
   "source": [
    "#### Formes de prix des marchés de l'État"
   ]
  },
  {
   "cell_type": "code",
   "execution_count": null,
   "id": "53309f7e-f404-44c8-a25f-3479e95ae9aa",
   "metadata": {},
   "outputs": [],
   "source": [
    "# Marchés de commande publique sur le périmètre Etat issues des données de l'AIFE dont la date de notification est postérieure à 2018\n",
    "decp_aife_etat_post2018_marche.shape"
   ]
  },
  {
   "cell_type": "code",
   "execution_count": null,
   "id": "d2f6fc90-3e4c-4df1-bdc9-6a6a86f76c8e",
   "metadata": {},
   "outputs": [],
   "source": [
    "# Calcul, en nombre et en montant, des totaux par formes de prix des marchés\n",
    "formes_prix = decp_aife_etat_post2018_marche[['formePrix', 'montant', 'montantCalcule']]\n",
    "formes_prix.groupby(by = \"formePrix\", axis = 0, dropna=False).agg(['sum','count'])"
   ]
  },
  {
   "cell_type": "markdown",
   "id": "69b68271-3554-4916-bb13-25add69b4243",
   "metadata": {},
   "source": [
    "**Commentaire sur les DECP**: \n",
    "    \n",
    "En matière de type de contrats, l'essentiel des données dont l'on dispose est non-précisée (NaN). La seconde plus importante est celle des prix révisables, alors que les prix fermes représentent un peu moins de la moitité de celui-ci."
   ]
  },
  {
   "cell_type": "code",
   "execution_count": null,
   "id": "e7a42b17-0d02-449c-8862-2e459a564562",
   "metadata": {},
   "outputs": [],
   "source": [
    "# En sortie, réduction des dimensions au niveau des colonnes\n",
    "formes_prix.shape"
   ]
  },
  {
   "cell_type": "markdown",
   "id": "18adaa80-8ab2-4823-adf4-cdb9cbed95f9",
   "metadata": {},
   "source": [
    "#### Marchés à prix fermes se terminant après juin 2022"
   ]
  },
  {
   "cell_type": "code",
   "execution_count": null,
   "id": "80fcadc9-6e6a-4d4f-ada9-733ec13c5ddc",
   "metadata": {},
   "outputs": [],
   "source": [
    "# En entrée, marchés de commande publique sur le périmètre Etat issues des données de l'AIFE dont la date de notification est postérieure à 201\n",
    "decp_aife_etat_post2018_marche.shape"
   ]
  },
  {
   "cell_type": "code",
   "execution_count": null,
   "id": "08c5bb09-9e9d-45c1-8276-46b2737c3708",
   "metadata": {},
   "outputs": [],
   "source": [
    "# Affichage, en nombre et en montant, pour les marchés à prix fermes, de ceux qui se terminent après juin 2022\n",
    "prix_fermes = decp_aife_etat_post2018_marche[decp_aife_etat_post2018_marche['formePrix'] == \"Ferme\"]"
   ]
  },
  {
   "cell_type": "code",
   "execution_count": null,
   "id": "e773bf49-4483-4dcd-9957-4a8738a2b4d4",
   "metadata": {},
   "outputs": [],
   "source": [
    "# On filtre pour les marchés finissant après le 30 juin 2022\n",
    "prix_fermes_juin2022 = prix_fermes[prix_fermes['dateFinCalculee'] > datetime.datetime(2022, 6, 30)]"
   ]
  },
  {
   "cell_type": "code",
   "execution_count": null,
   "id": "00548ee7-cfab-4fea-8029-4486be5deac2",
   "metadata": {},
   "outputs": [],
   "source": [
    "# Calcul, en nombre et en montant, de l'hypothèse haute des sommes totales des marchés fermes terminant après juin 2022\n",
    "prix_fermes_juin2022 = prix_fermes_juin2022[['formePrix', 'montant', 'montantCalcule']]\n",
    "prix_fermes_juin2022.groupby(by = \"formePrix\", axis = 0, dropna=False).agg(['sum','count'])"
   ]
  },
  {
   "cell_type": "code",
   "execution_count": null,
   "id": "752ec061-35fc-44d6-8943-5e9f605a99d2",
   "metadata": {},
   "outputs": [],
   "source": [
    "# En sortie, les marchés de commande publique de l'État à prix fermes, issus des données de l'AIFE, dont la date de notification est postérieure à 2018 \n",
    "# et dont la date estimée de fin est postérieure au 30 juin 2022\n",
    "prix_fermes_juin2022.shape"
   ]
  },
  {
   "cell_type": "markdown",
   "id": "136fa889-ae9e-49d6-89b9-bd3366ad5bbb",
   "metadata": {},
   "source": [
    "### Estimation des mensualités de la commande publique"
   ]
  },
  {
   "cell_type": "markdown",
   "id": "4ccf2e4e-c047-4693-b702-6121d2262d3d",
   "metadata": {},
   "source": [
    "#### Ensemble des marchés de l'État"
   ]
  },
  {
   "cell_type": "code",
   "execution_count": null,
   "id": "d167b82d-a448-43f4-b423-a29d6df9a419",
   "metadata": {},
   "outputs": [],
   "source": [
    "# Marchés de commande publique sur le périmètre Etat issues des données de l'AIFE dont la date de notification est postérieure à 2018\n",
    "decp_aife_etat_post2018_marche.shape"
   ]
  },
  {
   "cell_type": "code",
   "execution_count": null,
   "id": "1c029160-b3c8-4e54-9924-c793edcf7a0a",
   "metadata": {},
   "outputs": [],
   "source": [
    "# Construction d'une mensualité théorique estimée\n",
    "decp_aife_etat_post2018_marche['mensualiteEstimee'] = decp_aife_etat_post2018_marche['montantCalcule'] / decp_aife_etat_post2018_marche['dureeMoisCalculee']"
   ]
  },
  {
   "cell_type": "code",
   "execution_count": null,
   "id": "46322e0d-a655-4062-876b-1164513f3be4",
   "metadata": {},
   "outputs": [],
   "source": [
    "# Transposition d'un dataframe d'extremum en fréquence\n",
    "# Source : https://stackoverflow.com/a/57644703\n",
    "time_series = (decp_aife_etat_post2018_marche[['dateNotification', 'dateFinCalculee']]\n",
    "               .apply(lambda x: pd.date_range(*x, freq='1M'), # Fréquence mensuelle\n",
    "                      axis=1)\n",
    "               .explode()\n",
    "               .rename('dt') # Nom de l'index\n",
    "              )\n",
    "\n",
    "mensualite = decp_aife_etat_post2018_marche.join(time_series).reset_index(drop=True) # jointure sur l'index"
   ]
  },
  {
   "cell_type": "code",
   "execution_count": null,
   "id": "1a029e81-87b4-4e17-a9c8-7a34e4875434",
   "metadata": {},
   "outputs": [],
   "source": [
    "# On conserve la fréquence mensuelle, avec les paiements relatifs à cette dernière\n",
    "keep_cols_mensualite = ['dt', 'mensualiteEstimee']\n",
    "mensualite_work = mensualite[keep_cols_mensualite]"
   ]
  },
  {
   "cell_type": "code",
   "execution_count": null,
   "id": "1c2e630b-a88a-4484-89ff-2cfcace2cfa4",
   "metadata": {},
   "outputs": [],
   "source": [
    "# Regroupement des paiements par an\n",
    "mensualite_budget_annuel = mensualite_work.groupby(pd.Grouper(key='dt',freq='Y')).count()"
   ]
  },
  {
   "cell_type": "markdown",
   "id": "c21df385-1dd7-4125-b9dd-f6fe6e74c102",
   "metadata": {},
   "source": [
    "#### Marchés à prix fermes de l'État"
   ]
  },
  {
   "cell_type": "code",
   "execution_count": null,
   "id": "ebe337bf-02aa-4d62-be74-acbaf20d0a26",
   "metadata": {},
   "outputs": [],
   "source": [
    "prix_fermes.shape"
   ]
  },
  {
   "cell_type": "code",
   "execution_count": null,
   "id": "3636abe1-7898-4dc2-8bc7-704f38b06a25",
   "metadata": {},
   "outputs": [],
   "source": [
    "# Construction d'une mensualité théorique estimée\n",
    "prix_fermes['mensualiteEstimeePrixFermes'] = prix_fermes['montantCalcule'] / prix_fermes['dureeMoisCalculee']"
   ]
  },
  {
   "cell_type": "code",
   "execution_count": null,
   "id": "88973400-01f2-4b34-8ef7-342489c2a1a9",
   "metadata": {},
   "outputs": [],
   "source": [
    "# Transposition d'un dataframe d'extremum en fréquence\n",
    "# Source : https://stackoverflow.com/a/57644703\n",
    "prix_fermes_explode = (prix_fermes[['dateNotification', 'dateFinCalculee']]\n",
    "               .apply(lambda x: pd.date_range(*x, freq='1M'), # Fréquence mensuelle\n",
    "                      axis=1)\n",
    "               .explode()\n",
    "               .rename('dt') # Nom de l'index\n",
    "              )\n",
    "\n",
    "mensualite_prix_fermes = prix_fermes.join(prix_fermes_explode).reset_index(drop=True) # jointure sur l'index"
   ]
  },
  {
   "cell_type": "code",
   "execution_count": null,
   "id": "2c4b8512-35b4-47a3-8059-10b0ca281c94",
   "metadata": {},
   "outputs": [],
   "source": [
    "# On conserve la fréquence mensuelle, avec les paiements relatifs à cette dernière\n",
    "keep_cols_mensualite = ['dt', 'mensualiteEstimeePrixFermes']\n",
    "mensualite_prix_fermes_work = mensualite_prix_fermes[keep_cols_mensualite]"
   ]
  },
  {
   "cell_type": "code",
   "execution_count": null,
   "id": "a7dfd93b-2a86-42fb-8cf2-73f1be98a310",
   "metadata": {},
   "outputs": [],
   "source": [
    "# Regroupement des paiements par an\n",
    "mensualite_prix_fermes_budget_annuel = mensualite_prix_fermes_work.groupby(pd.Grouper(key='dt',freq='Y')).sum()"
   ]
  },
  {
   "cell_type": "code",
   "execution_count": null,
   "id": "d8fc556b-90e9-4bf4-8918-9c3dc597e3b4",
   "metadata": {},
   "outputs": [],
   "source": [
    "mensualite_prix_fermes_budget_annuel.shape"
   ]
  },
  {
   "cell_type": "markdown",
   "id": "194ea245-f6ac-4f69-a223-624f6347c0f9",
   "metadata": {},
   "source": [
    "#### Comparaisons\n",
    "\n",
    "Construction d'une table de comparaison, avec la part des paiements des marchés à prix fermes dans l'ensemble des marchés"
   ]
  },
  {
   "cell_type": "code",
   "execution_count": null,
   "id": "fbc87b1c-6336-4346-8fe4-5e6c6514bfa9",
   "metadata": {},
   "outputs": [],
   "source": [
    "mensualite_compare = mensualite_budget_annuel.merge(mensualite_prix_fermes_budget_annuel, on = \"dt\", how = 'left')"
   ]
  },
  {
   "cell_type": "code",
   "execution_count": null,
   "id": "f28a0317-6833-436f-9f05-0c0d7bc7f7f1",
   "metadata": {},
   "outputs": [],
   "source": [
    "mensualite_compare['partPrixFermes'] = mensualite_compare['mensualiteEstimeePrixFermes'] / mensualite_compare['mensualiteEstimee']"
   ]
  },
  {
   "cell_type": "code",
   "execution_count": null,
   "id": "6f878635-786a-4321-9d7a-fed9f1ad399f",
   "metadata": {},
   "outputs": [],
   "source": [
    "mensualite_compare.shape"
   ]
  },
  {
   "cell_type": "markdown",
   "id": "dfc35255-4264-406e-aeed-55a67e3fab1a",
   "metadata": {},
   "source": [
    "## Sur le budget de l'État\n",
    "\n",
    "Sur les dépenses totales de l'État, il faut exclure un certain nombre d'éléments : \n",
    "\n",
    "- en termes de ministères (non aux Armées)\n",
    "- des comptes budgétaires (31, 51 et 52, c'est-à-dire le fonctionnement, les dépenses d’investissement corporels, et incorporels)\n",
    "- sur le compte général (à voir encore -- par exemple, les fluides, qui sont traités à part). "
   ]
  },
  {
   "cell_type": "markdown",
   "id": "ff738d3e-13d2-4888-9709-a3f3a60c356b",
   "metadata": {},
   "source": [
    "### Préparation des données"
   ]
  },
  {
   "cell_type": "code",
   "execution_count": null,
   "id": "08aaeb54-b26f-4c7c-bc66-4d9b5de8cec8",
   "metadata": {},
   "outputs": [],
   "source": [
    "# Table contenant l'ensemble des dépenses de l'État pour l'année 2020\n",
    "budget.shape"
   ]
  },
  {
   "cell_type": "markdown",
   "id": "c1d42592-179f-42d5-83d5-807b08e23b07",
   "metadata": {},
   "source": [
    "budget"
   ]
  },
  {
   "cell_type": "code",
   "execution_count": null,
   "id": "f2add317-18a8-459c-acc5-a2e3b3133c18",
   "metadata": {},
   "outputs": [],
   "source": [
    "# On ne conserve que les informations pertinentes pour le filtre sur les données\n",
    "keep_cols_budget_work = ['Compte budgétaire', 'Compte général', 'Référentiel de programmation', 'EUR']\n",
    "budget_work = budget[keep_cols_budget_work]\n",
    "budget_work.rename({'Référentiel de programmation' : 'ID_Activite'}, axis = 1, inplace=True)"
   ]
  },
  {
   "cell_type": "code",
   "execution_count": null,
   "id": "db7c0f6b-d719-4a00-9af5-78354c49ea7b",
   "metadata": {},
   "outputs": [],
   "source": [
    "budget_work.shape"
   ]
  },
  {
   "cell_type": "markdown",
   "id": "4a01e3cc-479c-44e4-a384-3248bc69ccc0",
   "metadata": {},
   "source": [
    "### Filtres"
   ]
  },
  {
   "cell_type": "markdown",
   "id": "c4715819-9651-4438-ad0b-eeb475141b78",
   "metadata": {
    "tags": []
   },
   "source": [
    "#### Filtre sur le périmètre ministériel\n",
    "\n",
    "Il faut exclure le ministère des Armées de la prévision, celui-ci étant pris en compte dans un modèle spécifique."
   ]
  },
  {
   "cell_type": "code",
   "execution_count": null,
   "id": "17c38413-956c-4480-bf6a-fa9ade616086",
   "metadata": {},
   "outputs": [],
   "source": [
    "# On dispose d'un référentiel des ministères, outil de travail de la DB\n",
    "print(referentiel_ministere.shape)\n",
    "print(budget_work.shape)"
   ]
  },
  {
   "cell_type": "code",
   "execution_count": null,
   "id": "ddb973c3-4363-4b90-a899-73e0f54a7450",
   "metadata": {},
   "outputs": [],
   "source": [
    "# On conserve la colonne de jointure avec les données budgétaires, et le nom du ministère affilié\n",
    "keep_cols_referentiel_ministere = ['ID_Activite', 'Ministere']\n",
    "referentiel_ministere_work = referentiel_ministere[keep_cols_referentiel_ministere]\n",
    "budget_referentiel = budget_work.merge(referentiel_ministere_work, on = \"ID_Activite\", how = \"left\") # jointure"
   ]
  },
  {
   "cell_type": "code",
   "execution_count": null,
   "id": "e4b1cd14-b65c-43af-afe8-09bfcd1141ef",
   "metadata": {},
   "outputs": [],
   "source": [
    "# Exclusion du Ministère des Armées du périmètre\n",
    "budget_referentiel_sauf_armees = budget_referentiel[budget_referentiel['Ministere'] != \"Armées\"]"
   ]
  },
  {
   "cell_type": "code",
   "execution_count": null,
   "id": "32243a86-fb7c-41aa-bfea-730cabe66a8e",
   "metadata": {},
   "outputs": [],
   "source": [
    "budget_referentiel_sauf_armees.shape"
   ]
  },
  {
   "cell_type": "markdown",
   "id": "17a85430-60bf-4f2e-980d-c707ebd971c7",
   "metadata": {},
   "source": [
    "#### Filtre sur les comptes budgétaires\n",
    "\n",
    "On conserve les comptes budgétaires (31, 51 et 52, c'est-à-dire le fonctionnement, les dépenses d’investissement corporels, et incorporels)"
   ]
  },
  {
   "cell_type": "code",
   "execution_count": null,
   "id": "6ecb9dfe-28a8-4fd1-975c-579588d5b40d",
   "metadata": {},
   "outputs": [],
   "source": [
    "keep_comptes_budgetaires = [31, 51, 52]\n",
    "budget_marches = budget_referentiel_sauf_armees[budget_referentiel_sauf_armees['Compte budgétaire'].isin(keep_comptes_budgetaires)]"
   ]
  },
  {
   "cell_type": "markdown",
   "id": "fe91311b-8255-4678-b973-2f2d3e89187e",
   "metadata": {},
   "source": [
    "#### Filtre sur les comptes généraux\n",
    "\n",
    "On conserve les comptes identifiés par PERF2 (DB)."
   ]
  },
  {
   "cell_type": "code",
   "execution_count": null,
   "id": "d1501493-0487-4f64-a648-7fc405842004",
   "metadata": {},
   "outputs": [],
   "source": [
    "# Comptes à conserver\n",
    "print(filtre_budget_etat.shape)\n",
    "print(budget_marches.shape)"
   ]
  },
  {
   "cell_type": "code",
   "execution_count": null,
   "id": "8f2b6ce4-ca82-41f9-a92b-7a1a85e45981",
   "metadata": {},
   "outputs": [],
   "source": [
    "# Renommage pour correspondre aux données budgétaires\n",
    "filtre_budget_etat.rename({'Compte' : 'Compte général'}, axis=1, inplace=True)"
   ]
  },
  {
   "cell_type": "code",
   "execution_count": null,
   "id": "628ca4c3-05b1-44e5-914b-445628e75bfb",
   "metadata": {},
   "outputs": [],
   "source": [
    "# Jointure sur la colonne \"Compte général\"\n",
    "budget_marches_scope = budget_marches.merge(filtre_budget_etat, on = ['Compte général'], how = 'inner')"
   ]
  },
  {
   "cell_type": "code",
   "execution_count": null,
   "id": "2b7728f6-9742-4798-9903-ce4d6acd1606",
   "metadata": {},
   "outputs": [],
   "source": [
    "budget_marches_scope.shape"
   ]
  },
  {
   "cell_type": "markdown",
   "id": "c76e360a-0c05-4e43-b862-db9b24e5c5d0",
   "metadata": {},
   "source": [
    "## Comparaison des DECP et de l'exécution budgétaire"
   ]
  },
  {
   "cell_type": "markdown",
   "id": "332c1df2-4aaf-485a-ba64-fd6191c3ca50",
   "metadata": {},
   "source": [
    "### Sommes totales"
   ]
  },
  {
   "cell_type": "code",
   "execution_count": null,
   "id": "8cdab517-ce8c-4a21-9d32-d77947c946b9",
   "metadata": {},
   "outputs": [],
   "source": [
    "# Calcul des sommes totales\n",
    "tot_budget_marches_scope = budget_marches_scope.EUR.sum()\n",
    "tot_decp_aife_etat = decp_aife_etat.montantCalcule.sum()\n",
    "tot_decp_aife_etat_post2018_marche = decp_aife_etat_post2018_marche.montantCalcule.sum()\n",
    "tot_prix_fermes = prix_fermes.montantCalcule.sum()\n",
    "tot_prix_fermes_juin2022 = prix_fermes_juin2022.montantCalcule.sum()"
   ]
  },
  {
   "cell_type": "code",
   "execution_count": null,
   "id": "30ee6550-74fd-44e0-af5c-7d5f040819f7",
   "metadata": {},
   "outputs": [],
   "source": [
    "# Impression des résultats\n",
    "# Affichage en fstring avec 2 chiffres après les unités, point comme indicateur de décimale, virgule pour les séparateurs de milliers\n",
    "# D'après https://www.peterbe.com/plog/format-thousands-in-python et https://www.python.org/dev/peps/pep-0378/#commentary\n",
    "print(f\"Sur le périmètre défini, la somme totale du budget est de {tot_budget_marches_scope / 1000000:,.2f} millions d'euros\")\n",
    "print(f\"Les commandes publiques de l'AIFE sur le périmètre État sont de {tot_decp_aife_etat / 1000000:,.2f} millions d'euros\")\n",
    "print(f\"Les marchés de commandes publiques de l'AIFE sur le périmètre État dont la date de notification est postérieure à 2018 sont de {tot_decp_aife_etat_post2018_marche / 1000000:,.2f} millions d'euros\")\n",
    "print(f\"Les commandes publiques à taux ferme de l'AIFE sur le périmètre État sont de {tot_prix_fermes / 1000000:,.2f} millions d'euros\")\n",
    "print(f\"Les commandes publiques à taux ferme expiration après le 30 juin 2022 de l'AIFE sur le périmètre État sont de {tot_prix_fermes_juin2022 / 1000000:,.2f} millions d'euros\")"
   ]
  },
  {
   "cell_type": "markdown",
   "id": "cd485152-2c8c-442d-83b1-ae1ea4df318e",
   "metadata": {},
   "source": [
    "### Part des marchés à taux fermes expirant après le 30 juin 2022 dans le total"
   ]
  },
  {
   "cell_type": "code",
   "execution_count": null,
   "id": "c114b4b1-1143-4a29-bd28-14f190e6d2ef",
   "metadata": {},
   "outputs": [],
   "source": [
    "cols_prix_fermes_juin2022 = [[\"Dans l'ensemble des marchés à prix fermes de l'État\", 100 * (1 - ((tot_prix_fermes - tot_prix_fermes_juin2022) / tot_prix_fermes))], \n",
    "        [\"Dans l'ensemble des marchés de commandes publiques de l'État postérieures à 2018\", 100 * (1 - ((tot_decp_aife_etat_post2018_marche - tot_prix_fermes_juin2022) / tot_decp_aife_etat_post2018_marche))], \n",
    "        [\"Dans l'ensemble des commandes publiques de l'État\", 100 * (1 - ((tot_decp_aife_etat - tot_prix_fermes_juin2022) / tot_decp_aife_etat))], \n",
    "        [\"Dans le périmètre défini du budget de l'État\", 100 * (1 - ((tot_budget_marches_scope - tot_prix_fermes_juin2022) / tot_budget_marches_scope))]]"
   ]
  },
  {
   "cell_type": "code",
   "execution_count": null,
   "id": "7e478854-f5a8-44df-8965-c681890b4d78",
   "metadata": {},
   "outputs": [],
   "source": [
    "proportions_prix_fermes_juin2022 = pd.DataFrame(cols_prix_fermes_juin2022, columns = ['Marchés à taux fermes expirant après le 30 juin 2022', 'Pourcentage'])"
   ]
  },
  {
   "cell_type": "code",
   "execution_count": null,
   "id": "8310ebff-2041-457d-bd47-2e19f786cf62",
   "metadata": {},
   "outputs": [],
   "source": [
    "# Contextualisation de l'affichage des nombres dans un dataframe \n",
    "# d'après https://stackoverflow.com/a/67187281\n",
    "with pd.option_context('display.float_format', '{:_.2f}%'.format):\n",
    "    display(proportions_prix_fermes_juin2022)"
   ]
  },
  {
   "cell_type": "markdown",
   "id": "d0d93523-5c38-48c5-b121-8540ffcbd33f",
   "metadata": {},
   "source": [
    "### Exports de travail"
   ]
  },
  {
   "cell_type": "code",
   "execution_count": null,
   "id": "f63a200d-08bf-4bd4-88a7-8fdcc6d3af25",
   "metadata": {},
   "outputs": [],
   "source": [
    "# Données sources sur le périmètre des DECP et du budget de l'État\n",
    "decp_aife_etat_post2018_marche.to_csv(\"res/decp_aife_etat_post2018_marche.csv\", sep = \";\",  index=False, decimal=\",\", float_format='%.3f', encoding=\"UTF-8\")\n",
    "budget_marches_scope.to_csv(\"res/budget_marches_scope.csv\", sep = \";\",  index=False, decimal=\",\", float_format='%.3f', encoding=\"UTF-8\")"
   ]
  },
  {
   "cell_type": "code",
   "execution_count": null,
   "id": "677054fd-54bc-4536-85eb-1d731bfee361",
   "metadata": {},
   "outputs": [],
   "source": [
    "# FIltres sur les formes de prix des DECP\n",
    "formes_prix.to_csv(\"res/formes_prix.csv\", sep = \";\", index=False, decimal=\",\", float_format='%.3f', encoding=\"UTF-8\")\n",
    "prix_fermes_juin2022.to_csv(\"res/prix_fermes_juin2022.csv\", sep = \";\",  index=False, decimal=\",\", float_format='%.3f', encoding=\"UTF-8\")\n",
    "proportions_prix_fermes_juin2022.to_csv(\"res/proportions_prix_fermes_juin2022.csv\", sep = \";\",  index=False, decimal=\",\", float_format='%.3f', encoding=\"UTF-8\")"
   ]
  },
  {
   "cell_type": "code",
   "execution_count": null,
   "id": "5495f82c-46f6-41cf-ad5d-9c19a43074b9",
   "metadata": {},
   "outputs": [],
   "source": [
    "# Mensualisations, et agrégats sur mensualisations\n",
    "mensualite.to_csv(\"res/mensualite.csv\", sep = \";\",  index=False, decimal=\",\", float_format='%.3f', encoding=\"UTF-8\")\n",
    "mensualite_budget_annuel.to_csv(\"res/mensualite_budget_annuel.csv\", sep = \";\", index_label='annee', decimal=\",\", float_format='%.3f', encoding=\"UTF-8\")\n",
    "mensualite_prix_fermes_budget_annuel.to_csv(\"res/mensualite_prix_fermes_budget_annuel.csv\", sep = \";\", index_label='annee', decimal=\",\", float_format='%.3f', encoding=\"UTF-8\")\n",
    "mensualite_compare.to_csv(\"res/mensualite_compare.csv\", sep = \";\", index_label='annee', decimal=\",\", float_format='%.3f', encoding=\"UTF-8\")"
   ]
  }
 ],
 "metadata": {
  "kernelspec": {
   "display_name": "Python 3",
   "language": "python",
   "name": "python3"
  },
  "language_info": {
   "codemirror_mode": {
    "name": "ipython",
    "version": 3
   },
   "file_extension": ".py",
   "mimetype": "text/x-python",
   "name": "python",
   "nbconvert_exporter": "python",
   "pygments_lexer": "ipython3",
   "version": "3.8.8"
  }
 },
 "nbformat": 4,
 "nbformat_minor": 5
}
